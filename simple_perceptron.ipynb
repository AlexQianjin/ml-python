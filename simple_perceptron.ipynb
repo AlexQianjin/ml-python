{
 "cells": [
  {
   "cell_type": "code",
   "execution_count": 1,
   "id": "03f39f1b-890f-45af-994a-92d8dde0d930",
   "metadata": {},
   "outputs": [
    {
     "name": "stdout",
     "output_type": "stream",
     "text": [
      "input 30 => predict: 1.0\n",
      "input 40 => predict: 1.0\n",
      "input -20 => predict: 0.0\n",
      "input -60 => predict: 0.0\n",
      "0.01\n",
      "0.01\n"
     ]
    }
   ],
   "source": [
    "class Perceptron(object):\n",
    "    def __init__(self, eta=0.01, iterations=10):\n",
    "        self.lr = eta\n",
    "        self.iterations = iterations\n",
    "        self.w = 0.0\n",
    "        self.bais = 0.0\n",
    "    \n",
    "    def fit(self, X, Y):\n",
    "        for _ in range(self.iterations):\n",
    "            for i in range(len(X)):\n",
    "                x = X[i]\n",
    "                y = Y[i]\n",
    "                update = self.lr * (y - self.predict(x))\n",
    "                self.w += update * x\n",
    "                self.bais += update\n",
    "    \n",
    "    def net_input(self, x):\n",
    "        return self.w * x + self.bais\n",
    "\n",
    "    def predict(self, x):\n",
    "        return 1.0 if self.net_input(x) > 0.0 else 0.0\n",
    "\n",
    "x = [1, 2, 3, 10, 20, -2, -10, -100, -5, -20]\n",
    "y = [1.0, 1.0, 1.0, 1.0, 1.0, 0.0, 0.0, 0.0, 0.0, 0.0]\n",
    "\n",
    "model = Perceptron(0.01, 10)\n",
    "model.fit(x, y)\n",
    "\n",
    "test_x = [30, 40, -20, -60]\n",
    "for i in range(len(test_x)):\n",
    "    print('input {} => predict: {}'.format(test_x[i], model.predict(test_x[i])))\n",
    "\n",
    "print(model.w)\n",
    "print(model.bais)"
   ]
  }
 ],
 "metadata": {
  "kernelspec": {
   "display_name": "Python 3",
   "language": "python",
   "name": "python3"
  },
  "language_info": {
   "codemirror_mode": {
    "name": "ipython",
    "version": 3
   },
   "file_extension": ".py",
   "mimetype": "text/x-python",
   "name": "python",
   "nbconvert_exporter": "python",
   "pygments_lexer": "ipython3",
   "version": "3.9.5"
  }
 },
 "nbformat": 4,
 "nbformat_minor": 5
}
