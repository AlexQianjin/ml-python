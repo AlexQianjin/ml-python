{
 "cells": [
  {
   "cell_type": "code",
   "execution_count": 1,
   "id": "f6242ac6-6a52-43de-813c-cd5c5f9b3d71",
   "metadata": {},
   "outputs": [
    {
     "output_type": "stream",
     "name": "stdout",
     "text": [
      "Epoch 1/10\n",
      "3/3 [==============================] - 0s 5ms/step - loss: 0.3586\n",
      "Epoch 2/10\n",
      "3/3 [==============================] - 0s 4ms/step - loss: 0.4059\n",
      "Epoch 3/10\n",
      "3/3 [==============================] - 0s 3ms/step - loss: 0.3843\n",
      "Epoch 4/10\n",
      "3/3 [==============================] - 0s 1ms/step - loss: 0.3454\n",
      "Epoch 5/10\n",
      "3/3 [==============================] - 0s 2ms/step - loss: 0.3789\n",
      "Epoch 6/10\n",
      "3/3 [==============================] - 0s 5ms/step - loss: 0.3215\n",
      "Epoch 7/10\n",
      "3/3 [==============================] - 0s 2ms/step - loss: 0.3469\n",
      "Epoch 8/10\n",
      "3/3 [==============================] - 0s 4ms/step - loss: 0.3337\n",
      "Epoch 9/10\n",
      "3/3 [==============================] - 0s 2ms/step - loss: 0.3566\n",
      "Epoch 10/10\n",
      "3/3 [==============================] - 0s 3ms/step - loss: 0.3481\n",
      "input 30 => predict: [3.9464680e-09 9.9999750e-01 9.9879086e-01 8.1064081e-01 6.2636781e-01\n",
      " 3.2586076e-06 1.4777552e-07 3.1239688e-05]\n",
      "input 40 => predict: [6.2375946e-12 1.0000000e+00 9.9987102e-01 8.7395388e-01 6.6534853e-01\n",
      " 4.8198839e-08 7.7905571e-10 9.8244971e-07]\n",
      "input -20 => predict: [0.49934188 0.49906534 0.49920526 0.49983165 0.49989977 0.49943146\n",
      " 0.49938244 0.49946988]\n",
      "input -60 => predict: [0.49934188 0.49906534 0.49920526 0.49983165 0.49989977 0.49943146\n",
      " 0.49938244 0.49946988]\n"
     ]
    }
   ],
   "source": [
    "import tensorflow as tf\n",
    "from tensorflow.keras.models import Sequential\n",
    "from tensorflow.keras.layers import Dense\n",
    "\n",
    "model = Sequential()\n",
    "model.add(Dense(units=8, activation='relu', input_dim=1))\n",
    "model.add(Dense(units=8, activation='sigmoid'))\n",
    "model.compile(loss='mean_squared_error', optimizer='sgd')\n",
    "\n",
    "x = [1, 2, 3, 10, 20, -2, -10, -100, -5, -20]\n",
    "y = [1.0, 1.0, 1.0, 1.0, 1.0, 0.0, 0.0, 0.0, 0.0, 0.0]\n",
    "model.fit(x, y, epochs=10, batch_size=4)\n",
    "\n",
    "test_x = [30, 40, -20, -60]\n",
    "test_y = model.predict(test_x)\n",
    "\n",
    "for i in range(0, len(test_x)):\n",
    "    print('input {} => predict: {}'.format(test_x[i], test_y[i]))"
   ]
  },
  {
   "cell_type": "code",
   "execution_count": null,
   "id": "519c7ccb-60f7-4060-a0bf-6272e315e9a2",
   "metadata": {},
   "outputs": [],
   "source": []
  }
 ],
 "metadata": {
  "kernelspec": {
   "display_name": "Python 3",
   "language": "python",
   "name": "python3"
  }
 },
 "nbformat": 4,
 "nbformat_minor": 5
}