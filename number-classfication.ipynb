{
 "cells": [
  {
   "cell_type": "code",
   "execution_count": 1,
   "id": "f6242ac6-6a52-43de-813c-cd5c5f9b3d71",
   "metadata": {
    "tags": []
   },
   "outputs": [
    {
     "name": "stdout",
     "output_type": "stream",
     "text": [
      "Epoch 1/10\n",
      "3/3 [==============================] - 0s 2ms/step - loss: 0.6919\n",
      "Epoch 2/10\n",
      "3/3 [==============================] - 0s 4ms/step - loss: 0.5947\n",
      "Epoch 3/10\n",
      "3/3 [==============================] - 0s 1ms/step - loss: 0.5580\n",
      "Epoch 4/10\n",
      "3/3 [==============================] - 0s 2ms/step - loss: 0.4565\n",
      "Epoch 5/10\n",
      "3/3 [==============================] - 0s 3ms/step - loss: 0.4239\n",
      "Epoch 6/10\n",
      "3/3 [==============================] - 0s 6ms/step - loss: 0.4353\n",
      "Epoch 7/10\n",
      "3/3 [==============================] - 0s 2ms/step - loss: 0.3603\n",
      "Epoch 8/10\n",
      "3/3 [==============================] - 0s 3ms/step - loss: 0.4441\n",
      "Epoch 9/10\n",
      "3/3 [==============================] - 0s 2ms/step - loss: 0.3294\n",
      "Epoch 10/10\n",
      "3/3 [==============================] - 0s 2ms/step - loss: 0.3332\n",
      "input 30 => predict: [5.6247474e-05]\n",
      "input 40 => predict: [2.1404594e-06]\n",
      "input -20 => predict: [0.05423242]\n",
      "input -60 => predict: [0.00018835]\n"
     ]
    }
   ],
   "source": [
    "import tensorflow as tf\n",
    "from tensorflow.keras.models import Sequential\n",
    "from tensorflow.keras.layers import Dense\n",
    "\n",
    "model = Sequential()\n",
    "model.add(Dense(units=8, activation='relu', input_dim=1))\n",
    "model.add(Dense(units=1, activation='sigmoid'))\n",
    "model.compile(loss='mean_squared_error', optimizer='sgd')\n",
    "\n",
    "x = [1, 2, 3, 10, 20, -2, -10, -100, -5, -20]\n",
    "y = [1.0, 1.0, 1.0, 1.0, 1.0, 0.0, 0.0, 0.0, 0.0, 0.0]\n",
    "model.fit(x, y, epochs=10, batch_size=4)\n",
    "\n",
    "test_x = [30, 40, -20, -60]\n",
    "test_y = model.predict(test_x)\n",
    "\n",
    "for i in range(0, len(test_x)):\n",
    "    print('input {} => predict: {}'.format(test_x[i], test_y[i]))"
   ]
  },
  {
   "cell_type": "code",
   "execution_count": null,
   "id": "2b3aefdd-07a3-468b-b9bc-977b67baf907",
   "metadata": {},
   "outputs": [],
   "source": []
  }
 ],
 "metadata": {
  "kernelspec": {
   "display_name": "Python 3",
   "language": "python",
   "name": "python3"
  },
  "language_info": {
   "codemirror_mode": {
    "name": "ipython",
    "version": 3
   },
   "file_extension": ".py",
   "mimetype": "text/x-python",
   "name": "python",
   "nbconvert_exporter": "python",
   "pygments_lexer": "ipython3",
   "version": "3.9.5"
  }
 },
 "nbformat": 4,
 "nbformat_minor": 5
}
